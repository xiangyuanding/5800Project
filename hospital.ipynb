{
 "cells": [
  {
   "cell_type": "code",
   "execution_count": null,
   "id": "cadc57b3-8e43-4d01-8b70-dc02fbb1e998",
   "metadata": {},
   "outputs": [],
   "source": [
    "class hospital:\n",
    "    def __init__(self, capacity):\n",
    "        self.current_patient = []\n",
    "        self.capacity = capacity\n",
    "        self.past_patient = []\n",
    "\n",
    "    def print_info(self):\n",
    "        print(\"Current treating patient:treat time \")\n",
    "        for i in self.current_patient:\n",
    "            print(i.name+\":\"+str(i.treat_time), end=\", \")\n",
    "        print(\"\\n\")\n",
    "        \n",
    "\n",
    "    def pass_time(self):\n",
    "        i=0\n",
    "        while i < len(self.current_patient):\n",
    "            self.current_patient[i].treat_time -= 1\n",
    "            if self.current_patient[i].treat_time <= 0:\n",
    "                self.past_patient.append(self.current_patient.pop(i))\n",
    "            else:\n",
    "                i+=1\n",
    "\n",
    "    def add_patient(self, queue):\n",
    "        while len(self.current_patient)<=self.capacity and queue.empty()==False:\n",
    "            self.current_patient.append(queue.pop(0))\n"
   ]
  }
 ],
 "metadata": {
  "kernelspec": {
   "display_name": "Python 3 (ipykernel)",
   "language": "python",
   "name": "python3"
  },
  "language_info": {
   "codemirror_mode": {
    "name": "ipython",
    "version": 3
   },
   "file_extension": ".py",
   "mimetype": "text/x-python",
   "name": "python",
   "nbconvert_exporter": "python",
   "pygments_lexer": "ipython3",
   "version": "3.10.6"
  }
 },
 "nbformat": 4,
 "nbformat_minor": 5
}
