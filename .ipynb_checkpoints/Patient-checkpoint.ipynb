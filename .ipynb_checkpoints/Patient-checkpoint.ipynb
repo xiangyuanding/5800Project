{
 "cells": [
  {
   "cell_type": "code",
   "execution_count": null,
   "id": "ae9d6c63-3805-4071-b893-72818ff84132",
   "metadata": {},
   "outputs": [],
   "source": [
    "import random\n",
    "random.seed(10)\n",
    "\n",
    "# Placeholder function for ML model predicting urgency based on symptoms and other factors\n",
    "def predict_urgency(patient_symptoms, patient_history):\n",
    "    # For demo purpose, this will be random, since we did not cooperate with medical experts for now\n",
    "    # In real implementation, this would be based on ML predictions\n",
    "    return random.randint(1, 10)\n",
    "\n",
    "\n",
    "class Patient:\n",
    "    def __init__(self, name, emergency=False, symptoms=\"\", history=\"\", wait_time=0):\n",
    "        self.name = name\n",
    "        self.urgency = predict_urgency(symptoms, history)\n",
    "        self.emergency = emergency\n",
    "        self.symptoms = symptoms\n",
    "        self.history = history\n",
    "        self.wait_time = wait_time\n",
    "        self.factor = 0\n",
    "        self.determine_factor()\n",
    "        self.treat_time = random.randint(1, 3)\n",
    "\n",
    "    def __lt__(self, other):\n",
    "        # Emergency cases are always prioritized\n",
    "        if self.emergency != other.emergency:\n",
    "            return self.emergency\n",
    "        # Among non-emergency cases, prioritize by urgency\n",
    "        return self.urgency < other.urgency\n",
    "    \n",
    "    def determine_factor(self):\n",
    "        self.factor=5*self.urgency + 0.1*self.wait_time**2\n",
    "    \n",
    "    def __str__(self):\n",
    "        return self.name\n",
    "    \n",
    "    def pass_time(self):\n",
    "        self.wait_time += 1\n",
    "        self.determine_factor()\n"
   ]
  }
 ],
 "metadata": {
  "kernelspec": {
   "display_name": "Python 3 (ipykernel)",
   "language": "python",
   "name": "python3"
  },
  "language_info": {
   "codemirror_mode": {
    "name": "ipython",
    "version": 3
   },
   "file_extension": ".py",
   "mimetype": "text/x-python",
   "name": "python",
   "nbconvert_exporter": "python",
   "pygments_lexer": "ipython3",
   "version": "3.10.6"
  }
 },
 "nbformat": 4,
 "nbformat_minor": 5
}
