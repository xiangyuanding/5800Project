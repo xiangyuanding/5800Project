{
 "cells": [
  {
   "cell_type": "code",
   "execution_count": null,
   "id": "493fcccc-6adb-47d9-9c06-8c8e2a8d42bd",
   "metadata": {},
   "outputs": [],
   "source": [
    "class Queue:\n",
    "    def __init__(self):\n",
    "        self.queue = []\n",
    "\n",
    "    def put(self, item):\n",
    "        self.queue.append(item)\n",
    "\n",
    "    def pop(self, num):\n",
    "        return self.queue.pop(num)\n",
    "\n",
    "    def empty(self):\n",
    "        return len(self.queue) == 0\n",
    "\n",
    "    def pass_time(self):\n",
    "        for patient in self.queue:\n",
    "            patient.pass_time()\n",
    "    \n",
    "    def sort(self):\n",
    "        self.queue.sort(key=lambda patient: (patient.emergency, patient.factor), reverse=True)\n",
    "\n",
    "    # Traditional method, for comparison purpose\n",
    "    # def sort(self):\n",
    "    #     self.queue.sort(key=lambda patient: patient.emergency, reverse=True)\n",
    "\n",
    "    def print_info(self):\n",
    "        print(\"Current waiting patient:wait time\")\n",
    "        for i in self.queue:\n",
    "            print(i.name+\":\"+str(i.wait_time)+\":\"+str(i.emergency), end=\", \")\n",
    "        print(\"\\n\")"
   ]
  }
 ],
 "metadata": {
  "kernelspec": {
   "display_name": "Python 3 (ipykernel)",
   "language": "python",
   "name": "python3"
  },
  "language_info": {
   "codemirror_mode": {
    "name": "ipython",
    "version": 3
   },
   "file_extension": ".py",
   "mimetype": "text/x-python",
   "name": "python",
   "nbconvert_exporter": "python",
   "pygments_lexer": "ipython3",
   "version": "3.10.6"
  }
 },
 "nbformat": 4,
 "nbformat_minor": 5
}
