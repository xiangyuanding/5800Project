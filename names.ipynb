{
 "cells": [
  {
   "cell_type": "code",
   "execution_count": null,
   "id": "ff998bf2-ba8c-4f95-a2ed-b57812ab2f9f",
   "metadata": {},
   "outputs": [],
   "source": [
    "import random\n",
    "from Patient import Patient\n",
    "random.seed(10)\n",
    "FIRST_NAMES=[\"James\", \"Emma\", \"Olivia\", \"Liam\", \"Noah\", \"Isabella\", \"Sophia\", \"William\", \n",
    "            \"Elijah\", \"Benjamin\", \"Mia\", \"Lucas\", \"Alexander\", \"Henry\", \"Ava\", \"Sebastian\", \n",
    "            \"Ethan\", \"Michael\", \"Daniel\", \"Matthew\", \"Charlotte\", \"Harper\", \"David\", \n",
    "            \"Aiden\", \"Joseph\", \"Abigail\", \"Emily\", \"Samuel\", \"Jackson\", \"Scarlett\", \n",
    "            \"Madison\", \"Avery\", \"Evelyn\", \"Ella\", \"Grace\", \"Chloe\", \"Victoria\", \"Riley\", \n",
    "            \"Aria\", \"Lily\", \"Jack\", \"Leo\", \"Sofia\", \"Gabriel\", \"Aiden\", \"Madelyn\", \n",
    "            \"Amelia\", \"Mason\"]\n",
    "\n",
    "LAST_NAMES=[\"Smith\", \"Johnson\", \"Williams\", \"Brown\", \"Jones\", \"García\", \"Rodríguez\", \n",
    "            \"Martínez\", \"Davis\", \"Hernández\", \"Martínez\", \"Jackson\", \"Taylor\", \"Thomas\", \n",
    "            \"White\", \"Harris\", \"Martin\", \"Thompson\", \"Garcia\", \"Martinez\", \"Jones\", \n",
    "            \"Williams\", \"Brown\", \"Davis\", \"Miller\", \"Wilson\", \"Moore\", \"Taylor\", \n",
    "            \"Anderson\", \"Thomas\", \"Jackson\", \"White\", \"Harris\", \"Martin\", \"Lee\", \n",
    "            \"Lewis\", \"Walker\", \"Hall\", \"Young\", \"King\", \"Wright\", \"Lopez\", \"Hill\", \n",
    "            \"Scott\", \"Green\", \"Adams\", \"Baker\", \"Nelson\", \"Carter\"]\n",
    "\n",
    "def generate_name():\n",
    "    return random.choice(FIRST_NAMES) + \" \" + random.choice(LAST_NAMES)\n",
    "\n"
   ]
  }
 ],
 "metadata": {
  "kernelspec": {
   "display_name": "Python 3 (ipykernel)",
   "language": "python",
   "name": "python3"
  },
  "language_info": {
   "codemirror_mode": {
    "name": "ipython",
    "version": 3
   },
   "file_extension": ".py",
   "mimetype": "text/x-python",
   "name": "python",
   "nbconvert_exporter": "python",
   "pygments_lexer": "ipython3",
   "version": "3.10.6"
  }
 },
 "nbformat": 4,
 "nbformat_minor": 5
}
